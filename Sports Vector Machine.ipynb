{
 "cells": [
  {
   "cell_type": "code",
   "execution_count": null,
   "metadata": {},
   "outputs": [],
   "source": [
    "import codecademylib3_seaborn\n",
    "import matplotlib.pyplot as plt\n",
    "from sklearn.svm import SVC\n",
    "from sklearn.model_selection import train_test_split\n",
    "from svm_visualization import draw_boundary\n",
    "from players import aaron_judge, jose_altuve, david_ortiz\n",
    "\n",
    "fig, ax = plt.subplots()\n",
    "# print(aaron_judge.columns)\n",
    "# print(aaron_judge.description.unique())\n",
    "# print(aaron_judge.type.unique())\n",
    "\n",
    "def find_strike_zone(data_set):\n",
    "  data_set['type'] = data_set['type'].map({'S':1, 'B':2})\n",
    "# print(data_set.type)\n",
    "\n",
    "# print(data_set['plate_x'])\n",
    "\n",
    "\n",
    "  data_set = data_set.dropna(subset = ['plate_x', 'plate_z', 'type'])\n",
    "\n",
    "  plt.scatter(x = \n",
    "  data_set['plate_x'], \n",
    "  y = \n",
    "  data_set['plate_z'], c = \n",
    "  data_set['type'], cmap = plt.cm.coolwarm, alpha = 0.25)\n",
    "\n",
    "  training_set , validation_set = train_test_split(\n",
    "  data_set, random_state = 1)\n",
    "  largest = {'value': 0, 'gamma': 1, 'C': 1}\n",
    "  for gamma in range(1, 5):\n",
    "    for C in range(1, 5):\n",
    "      classifier = SVC(kernel = 'rbf', gamma = gamma , C = C)\n",
    "      classifier.fit(training_set[['plate_x', 'plate_z']], training_set['type'])\n",
    "      \n",
    "  score = classifier.score(validation_set[['plate_x', 'plate_z']], validation_set['type'])\n",
    "  if (score > largest['value']):\n",
    "    largest['value'] = score\n",
    "    largest['gamma'] = gamma\n",
    "    largest['C'] = C\n",
    "  print(largest)\n",
    "  draw_boundary(ax, classifier)\n",
    "  ax.set_ylim(-2, 6)\n",
    "  ax.set_xlim(-3, 3)\n",
    "  plt.show()\n",
    "find_strike_zone(david_ortiz)\n",
    "\n",
    "## The datasets were not included because they were saved in a different format"
   ]
  }
 ],
 "metadata": {
  "kernelspec": {
   "display_name": "Python 3",
   "language": "python",
   "name": "python3"
  },
  "language_info": {
   "codemirror_mode": {
    "name": "ipython",
    "version": 3
   },
   "file_extension": ".py",
   "mimetype": "text/x-python",
   "name": "python",
   "nbconvert_exporter": "python",
   "pygments_lexer": "ipython3",
   "version": "3.8.5"
  }
 },
 "nbformat": 4,
 "nbformat_minor": 4
}
